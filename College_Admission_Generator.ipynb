{
 "cells": [
  {
   "cell_type": "code",
   "execution_count": null,
   "metadata": {
    "id": "WRBFNgavuOyK"
   },
   "outputs": [],
   "source": [
    "import numpy as np\n",
    "import pandas as pd\n",
    "import random"
   ]
  },
  {
   "cell_type": "code",
   "execution_count": 12,
   "metadata": {
    "id": "z5K8Aag2uTjL"
   },
   "outputs": [],
   "source": [
    "headers = ['age', 'sex', 'white', 'asian', 'black', 'hispanic', 'otherRace', 'gpa', 'SAT', 'SATWriting', 'APTests', 'APScores', 'STEM', 'essays', 'extracurriculars', 'percentile', 'collegeLevel', 'collegeScore', 'accepted']\n",
    "header_type = [int, bool, bool,    bool,    bool,    bool,       bool,       float,  int,    float,       int,       float,      bool,   float,    int,               float,         int,              float,        bool]"
   ]
  },
  {
   "cell_type": "code",
   "execution_count": 13,
   "metadata": {
    "colab": {
     "base_uri": "https://localhost:8080/"
    },
    "id": "crY8TI6Ewcju",
    "outputId": "2178299f-4397-4bda-9936-e75d48af52c6"
   },
   "outputs": [
    {
     "name": "stdout",
     "output_type": "stream",
     "text": [
      "19 19\n"
     ]
    }
   ],
   "source": [
    "print(len(headers), len(header_type))"
   ]
  },
  {
   "cell_type": "code",
   "execution_count": 14,
   "metadata": {
    "id": "5ObxQO3KAb6e"
   },
   "outputs": [],
   "source": [
    "def collegeScore(person):\n",
    "    # soft max score 1000\n",
    "    score = 0\n",
    "    applicant = {}\n",
    "    for i in range(len(headers)):\n",
    "        applicant[headers[i]] = person[i]\n",
    "    if applicant['collegeLevel'] == 0:\n",
    "        score += applicant['gpa']/4*250\n",
    "        score += (applicant['SAT']-800)/800 * 50\n",
    "        score += (applicant['SATWriting'])/8 * 50\n",
    "        score += applicant['extracurriculars']/8 * 250\n",
    "        score += applicant['essays'] * 300\n",
    "        score += applicant['APTests']*applicant['APScores']/5*100\n",
    "        if not applicant['white']:\n",
    "            score *= 1.15\n",
    "\n",
    "    if applicant['collegeLevel'] == 1:\n",
    "        score += applicant['gpa']/4*250\n",
    "        score += (applicant['SAT']-800)/800 * 150\n",
    "        score += (applicant['SATWriting'])/8 * 100\n",
    "        score += applicant['extracurriculars']/8 * 150\n",
    "        score += applicant['essays'] * 200\n",
    "        score += applicant['APTests']*applicant['APScores']/5*150\n",
    "        if not applicant['white'] and not applicant['asian']:\n",
    "            score *= 1.1\n",
    "\n",
    "    if applicant['collegeLevel'] == 2:\n",
    "        score += applicant['gpa']/4.5*200\n",
    "        score += (applicant['SAT']-1200)/400 * 200\n",
    "        score += (applicant['SATWriting']-4)/4 * 100\n",
    "        score += applicant['extracurriculars']/8 * 100\n",
    "        score += applicant['essays'] * 200\n",
    "        score += applicant['APTests']*(applicant['APScores']-3)/2/10*200\n",
    "        if applicant['gpa'] < 3.0:\n",
    "            score = 0\n",
    "\n",
    "    if applicant['collegeLevel'] == 3:\n",
    "        score += 2**(3*(applicant['gpa']-5))*200\n",
    "        score += 2**(3*(applicant['SAT']-1600)/100) * 150\n",
    "        score += (applicant['SATWriting']-7) * 75\n",
    "        score += 2**(1.7*(applicant['extracurriculars']/15-1)) * 175\n",
    "        score += 2**(1.7*(applicant['essays']-1)) * 300\n",
    "        score += applicant['APTests']*(applicant['APScores']-4)/10*100\n",
    "        if applicant['gpa'] < 4.0 or (applicant['SAT'] < 1500 and applicant['STEM']):\n",
    "            score = 0\n",
    "\n",
    "    score = np.random.normal(score, 50, 1)[0]\n",
    "    return score\n",
    "\n",
    "\n"
   ]
  },
  {
   "cell_type": "code",
   "execution_count": 15,
   "metadata": {
    "id": "P-fB2ua3wd5h"
   },
   "outputs": [],
   "source": [
    "def personGenerator(percentile):\n",
    "    person = np.zeros(len(headers))\n",
    "    age = random.randint(16,18)\n",
    "    person[0] = age\n",
    "    sex = random.randint(0,1)\n",
    "    person[1] = sex\n",
    "    race_index = np.random.choice([0,1,2,3,4], 1,\n",
    "              p=[0.5, 0.2, 0.1, 0.1, 0.1]) + 2\n",
    "    person[race_index] = 1\n",
    "\n",
    "    gpa = -1\n",
    "    SAT = -1\n",
    "    SATWriting = -1\n",
    "    APTests = -1\n",
    "    APScores = -1\n",
    "    STEM = -1\n",
    "    essays= -1\n",
    "    extracurriculars = -1\n",
    "    collegeLevel = -1\n",
    "    if percentile > 0.99:\n",
    "        gpa = 4.0 + (percentile-0.98) * 100/2 * random.random()\n",
    "        SAT = 1550 + round(min(50,(percentile-0.98) * 100 * random.random() * 50))\n",
    "        SATWriting = 6 + (min(2, (percentile-0.98) * 100 * random.random() * 2))\n",
    "        APTests = 4 + round(8*random.random())\n",
    "        APScores = 4 + min(1,random.random()*(percentile-0.99)*100*2)\n",
    "        STEM = random.random()+0.2\n",
    "        essays = percentile + (1-percentile)*((random.random()*2)-1)\n",
    "        extracurriculars = 3 + round(np.random.normal((percentile-0.98) * 1000/3, 2, 1)[0])\n",
    "        collegeLevel = 3\n",
    "    elif percentile > 0.9:\n",
    "        gpa = 3.5 + (percentile-0.80) * 10/2 * random.random()\n",
    "        SAT = min(1600, np.random.normal((percentile*1600), 1600*(1-percentile)/4, 1)[0])\n",
    "        SATWriting = 5 + (min(3, (percentile-0.8) * 10 * random.random() * 2))\n",
    "        APTests = 3 + round(6*random.random())\n",
    "        APScores = 4 + min(1,random.random()*(percentile-0.85)*10*2) * 1\n",
    "        STEM = random.random()+0.1\n",
    "        essays = percentile + (1-percentile)*((random.random()*2)-1)\n",
    "        extracurriculars = 2 + round(np.random.normal((percentile-0.80) * 100/4, 2, 1)[0])\n",
    "        collegeLevel = 2\n",
    "    elif percentile > 0.7:\n",
    "        gpa = 3.6 + np.random.normal((percentile-0.80)*2, 0.15, 1)[0]\n",
    "        SAT = min(1600, np.random.normal((800+percentile*800), 1600*0.15/4, 1)[0])\n",
    "        SATWriting = 5 + (min(3, (percentile-0.8) * 10 * random.random() * 2))\n",
    "        APTests = 1 + round(np.random.normal((percentile-0.7)*10, 1, 1)[0])\n",
    "        APScores = 3 + min(1,random.random()*(percentile-0.7)*10) * 1\n",
    "        STEM = random.random()\n",
    "        essays = percentile + (1-percentile)*((random.random()*2)-1)\n",
    "        extracurriculars = 1 + round(np.random.normal((percentile-0.70) * 100/4, 1.5, 1)[0])\n",
    "        collegeLevel = 1\n",
    "    else:\n",
    "        gpa = 2 + np.random.normal(percentile*2, 0.6*(percentile+0.4)/2, 1)[0]\n",
    "        SAT = min(1600, np.random.normal((800+percentile*800), 1600*0.15/4, 1)[0])\n",
    "        SATWriting = 2 + (min(6, (percentile) * 10 * random.random()))\n",
    "        APTests = round(np.random.normal((percentile)*10/6, 0.35, 1)[0])\n",
    "        APScores = min(5,(np.random.normal(3+(percentile-0.4)*10/5, 0.35, 1)[0]))\n",
    "        STEM = random.random()-0.2\n",
    "        essays = percentile + min(percentile,(1-percentile))*((random.random()*2)-1)\n",
    "        extracurriculars = round(max(0,np.random.normal((percentile) * 10/6, 1, 1)[0]))\n",
    "        collegeLevel = 0\n",
    "\n",
    "    person[7] = gpa\n",
    "    person[8] = SAT\n",
    "    person[9] = SATWriting\n",
    "    person[10] = APTests\n",
    "    person[11] = APScores\n",
    "    # print(STEM)\n",
    "    person[12] = min(1,max(0,(STEM + 0.15*person[1] + -0.15*((person[1]+1)%2) + 0.2*person[3] + -0.2*person[4] -0.1*person[5])-0.25))\n",
    "    # print(person[1], person[3], person[4], person[5])\n",
    "    # print(person[12])\n",
    "    person[12] = round(person[12])\n",
    "    # if person[12] == 0:\n",
    "    #     print(person)\n",
    "    person[13] = essays\n",
    "    person[14] = extracurriculars\n",
    "\n",
    "    person[15] = percentile\n",
    "\n",
    "    applications = None\n",
    "    if collegeLevel in (0,3):\n",
    "        applications = np.tile(person, (2, 1))\n",
    "        applications[0,-3] = collegeLevel\n",
    "        if collegeLevel == 0:\n",
    "            applications[1,-3] = collegeLevel + 1\n",
    "        else:\n",
    "            applications[1,-3] = collegeLevel - 1\n",
    "    else:\n",
    "        applications = np.tile(person, (3, 1))\n",
    "        applications[0,-3] = collegeLevel\n",
    "        applications[1,-3] = collegeLevel+1\n",
    "        applications[2,-3] = collegeLevel-1\n",
    "    for application in applications:\n",
    "        application[-2] = collegeScore(application)\n",
    "    return applications\n"
   ]
  },
  {
   "cell_type": "code",
   "execution_count": 16,
   "metadata": {
    "id": "-ySz3XifBEAw"
   },
   "outputs": [],
   "source": [
    "def applicationCutOff(applicants):\n",
    "    college0CutOff = np.percentile(applicants[np.in1d(applicants[:, -3], [0])][:,-2],20)\n",
    "    college1CutOff = np.percentile(applicants[np.in1d(applicants[:, -3], [1])][:,-2],50)\n",
    "    return college0CutOff, college1CutOff\n",
    "\n",
    "def accepted(applicants):\n",
    "    final_applicants = np.empty((0,applicants.shape[1]))\n",
    "    college0CutOff, college1CutOff = applicationCutOff(applicants)\n",
    "    print(college0CutOff, college1CutOff)\n",
    "    college0Applicants = applicants[np.in1d(applicants[:, -3], [0])]\n",
    "    college0Applicants[:,-1] = college0Applicants[:,-2] > college0CutOff\n",
    "    college1Applicants = applicants[np.in1d(applicants[:, -3], [1])]\n",
    "    college1Applicants[:,-1] = college1Applicants[:,-2] > college1CutOff\n",
    "    final_applicants = np.append(college0Applicants, college1Applicants, axis=0)\n",
    "\n",
    "    college2Applicants = applicants[np.in1d(applicants[:, -3], [2])]\n",
    "    college2ApplicantsNonSTEM = college2Applicants[np.in1d(college2Applicants[:, 12], [0])]\n",
    "    college2ApplicantsNonSTEMCutOff = np.percentile(college2ApplicantsNonSTEM[:,-2],70)\n",
    "    college2ApplicantsNonSTEM[:,-1] = college2ApplicantsNonSTEM[:,-2]>college2ApplicantsNonSTEMCutOff\n",
    "\n",
    "    college2ApplicantsSTEM = college2Applicants[np.in1d(college2Applicants[:, 12], [1])]\n",
    "    college2ApplicantsSTEMCount = college2ApplicantsSTEM.shape[0]\n",
    "    college2ApplicantsSTEMMinorityCount = int(college2ApplicantsSTEMCount*0.15*0.25)\n",
    "    college2ApplicantsSTEMMajorityCount = int(college2ApplicantsSTEMCount*0.15*0.75)\n",
    "    college2ApplicantsSTEMMinority = college2ApplicantsSTEM[((college2ApplicantsSTEM[:,2] == 0) & (college2ApplicantsSTEM[:,3] == 0))]\n",
    "    college2ApplicantsSTEMMinority = college2ApplicantsSTEMMinority[college2ApplicantsSTEMMinority[:,-2].argsort()]\n",
    "    college2ApplicantsSTEMMajority = college2ApplicantsSTEM[((college2ApplicantsSTEM[:,2] == 1) | (college2ApplicantsSTEM[:,3] == 1))]\n",
    "    college2ApplicantsSTEMMajority = college2ApplicantsSTEMMajority[college2ApplicantsSTEMMajority[:,-2].argsort()]\n",
    "    college2ApplicantsSTEMMinority[-college2ApplicantsSTEMMinorityCount:,-1] = 1\n",
    "    college2ApplicantsSTEMMajority[-college2ApplicantsSTEMMajorityCount:,-1] = 1\n",
    "\n",
    "    final_applicants = np.append(final_applicants, college2ApplicantsNonSTEM, axis=0)\n",
    "    final_applicants = np.append(final_applicants, college2ApplicantsSTEMMinority, axis=0)\n",
    "    final_applicants = np.append(final_applicants, college2ApplicantsSTEMMajority, axis=0)\n",
    "\n",
    "    college3Applicants = applicants[np.in1d(applicants[:, -3], [3])]\n",
    "    college3ApplicantsNonSTEM = college3Applicants[np.in1d(college3Applicants[:, 12], [0])]\n",
    "    college3ApplicantsNonSTEMCount = college3ApplicantsNonSTEM.shape[0]\n",
    "    college3ApplicantsNonSTEMMinorityCount = int(college3ApplicantsNonSTEMCount*0.1*0.25)\n",
    "    college3ApplicantsNonSTEMMajorityCount = int(college3ApplicantsNonSTEMCount*0.1*0.75)\n",
    "    college3ApplicantsNonSTEMMinority = college3ApplicantsNonSTEM[(college3ApplicantsNonSTEM[:,1] == 0) | ((college3ApplicantsNonSTEM[:,2] == 0) & (college3ApplicantsNonSTEM[:,3] == 0))]\n",
    "    college3ApplicantsNonSTEMMinority = college3ApplicantsNonSTEMMinority[college3ApplicantsNonSTEMMinority[:,-2].argsort()]\n",
    "    college3ApplicantsNonSTEMMajority = college3ApplicantsNonSTEM[(college3ApplicantsNonSTEM[:,1] == 1) & ((college3ApplicantsNonSTEM[:,2] == 1) | (college3ApplicantsNonSTEM[:,3] == 1))]\n",
    "    college3ApplicantsNonSTEMMajority = college3ApplicantsNonSTEMMajority[college3ApplicantsNonSTEMMajority[:,-2].argsort()]\n",
    "    college3ApplicantsNonSTEMMinority[-college3ApplicantsNonSTEMMinorityCount:,-1] = 1\n",
    "    college3ApplicantsNonSTEMMajority[-college3ApplicantsNonSTEMMajorityCount:,-1] = 1\n",
    "\n",
    "    college3ApplicantsSTEM = college3Applicants[np.in1d(college3Applicants[:, 12], [1])]\n",
    "    college3ApplicantsSTEMCount = college3ApplicantsSTEM.shape[0]\n",
    "    college3ApplicantsSTEMMinorityCount = int(college3ApplicantsSTEMCount*0.05*0.25)\n",
    "    college3ApplicantsSTEMMajorityCount = int(college3ApplicantsSTEMCount*0.05*0.75)\n",
    "    college3ApplicantsSTEMMinority = college3ApplicantsSTEM[((college3ApplicantsSTEM[:,2] == 0) & (college3ApplicantsSTEM[:,3] == 0))]\n",
    "    college3ApplicantsSTEMMinority = college3ApplicantsSTEMMinority[college3ApplicantsSTEMMinority[:,-2].argsort()]\n",
    "    college3ApplicantsSTEMMajority = college3ApplicantsSTEM[((college3ApplicantsSTEM[:,2] == 1) | (college3ApplicantsSTEM[:,3] == 1))]\n",
    "    college3ApplicantsSTEMMajority = college3ApplicantsSTEMMajority[college3ApplicantsSTEMMajority[:,-2].argsort()]\n",
    "    college3ApplicantsSTEMMinority[-college3ApplicantsSTEMMinorityCount:,-1] = 1\n",
    "    college3ApplicantsSTEMMajority[-college3ApplicantsSTEMMajorityCount:,-1] = 1\n",
    "    print((np.sum(college3ApplicantsSTEMMinority[:,-1])+np.sum(college3ApplicantsSTEMMajority[:,-1]))/college3ApplicantsSTEMCount)\n",
    "\n",
    "    final_applicants = np.append(final_applicants, college3ApplicantsNonSTEMMinority, axis=0)\n",
    "    final_applicants = np.append(final_applicants, college3ApplicantsNonSTEMMajority, axis=0)\n",
    "    final_applicants = np.append(final_applicants, college3ApplicantsSTEMMinority, axis=0)\n",
    "    final_applicants = np.append(final_applicants, college3ApplicantsSTEMMajority, axis=0)\n",
    "\n",
    "    return final_applicants"
   ]
  },
  {
   "cell_type": "code",
   "execution_count": 17,
   "metadata": {
    "colab": {
     "base_uri": "https://localhost:8080/"
    },
    "id": "bl_T-q4gWGM1",
    "outputId": "09ba768d-c655-45f1-efb8-13f33d8b63c3"
   },
   "outputs": [
    {
     "name": "stdout",
     "output_type": "stream",
     "text": [
      "0\n",
      "10000\n",
      "(23869, 19)\n",
      "397.60658516482107 624.5603982632199\n",
      "0.04602510460251046\n"
     ]
    }
   ],
   "source": [
    "n = int(10001)\n",
    "applicants = np.empty((0,len(headers)))\n",
    "applicants_temp = np.empty((0,len(headers)))\n",
    "applicants_temp_temp = np.empty((0,len(headers)))\n",
    "for i in range(n):\n",
    "    applicants_temp_temp = np.append(applicants_temp_temp, personGenerator(i/n/4*3+0.25), axis=0)\n",
    "    if i%100000==0:\n",
    "        applicants = np.append(applicants, applicants_temp, axis=0)\n",
    "        applicants_temp = np.empty((0,len(headers)))\n",
    "    if i%10000 == 0:\n",
    "        applicants_temp = np.append(applicants_temp, applicants_temp_temp, axis=0)\n",
    "        applicants_temp_temp = np.empty((0,len(headers)))\n",
    "        print(i)\n",
    "applicants_temp = np.append(applicants_temp, applicants_temp_temp, axis=0)\n",
    "applicants = np.append(applicants, applicants_temp, axis=0)\n",
    "\n",
    "print(applicants.shape)\n",
    "applicants = accepted(applicants)\n",
    "\n"
   ]
  },
  {
   "cell_type": "code",
   "execution_count": null,
   "metadata": {
    "colab": {
     "base_uri": "https://localhost:8080/"
    },
    "id": "OsaDaoqdY4-R",
    "outputId": "fabbbb27-5f66-40e0-ab94-5bc4a48a5275"
   },
   "outputs": [
    {
     "name": "stdout",
     "output_type": "stream",
     "text": [
      "{'age': 17.0, 'sex': 0.0, 'white': 1.0, 'asian': 0.0, 'black': 0.0, 'hispanic': 0.0, 'otherRace': 0.0, 'gpa': 3.8742872081177633, 'SAT': 1575.7337660840171, 'SATWriting': 6.450994228317285, 'APTests': 6.0, 'APScores': 4.859607274914069, 'STEM': 0.0, 'essays': 0.9990616091288076, 'extracurriculars': 5.0, 'percentile': 0.9829767023297671, 'collegeLevel': 3.0, 'collegeScore': 4.913293266719709, 'accepted': 0.0}\n",
      "{'age': 17.0, 'sex': 1.0, 'white': 0.0, 'asian': 0.0, 'black': 0.0, 'hispanic': 0.0, 'otherRace': 1.0, 'gpa': 3.636126846660924, 'SAT': 1513.1980029012516, 'SATWriting': 5.8161540564279655, 'APTests': 6.0, 'APScores': 4.113670441529083, 'STEM': 0.0, 'essays': 0.8913536709367436, 'extracurriculars': 4.0, 'percentile': 0.9080591940805919, 'collegeLevel': 3.0, 'collegeScore': 5.337851702101415, 'accepted': 0.0}\n",
      "{'age': 18.0, 'sex': 0.0, 'white': 0.0, 'asian': 0.0, 'black': 0.0, 'hispanic': 1.0, 'otherRace': 0.0, 'gpa': 3.6073760226776526, 'SAT': 1554.1896509540952, 'SATWriting': 6.377538633790677, 'APTests': 4.0, 'APScores': 5.0, 'STEM': 0.0, 'essays': 0.9412208650930096, 'extracurriculars': 6.0, 'percentile': 0.9658784121587841, 'collegeLevel': 3.0, 'collegeScore': 5.554350817929117, 'accepted': 0.0}\n",
      "{'age': 17.0, 'sex': 0.0, 'white': 1.0, 'asian': 0.0, 'black': 0.0, 'hispanic': 0.0, 'otherRace': 0.0, 'gpa': 3.903325760745028, 'SAT': 1427.432562378225, 'SATWriting': 6.573350668830679, 'APTests': 5.0, 'APScores': 4.028581548820474, 'STEM': 0.0, 'essays': 0.9859640405665238, 'extracurriculars': 5.0, 'percentile': 0.9127087291270872, 'collegeLevel': 3.0, 'collegeScore': 5.782449084127649, 'accepted': 0.0}\n",
      "{'age': 18.0, 'sex': 0.0, 'white': 1.0, 'asian': 0.0, 'black': 0.0, 'hispanic': 0.0, 'otherRace': 0.0, 'gpa': 3.712569943333963, 'SAT': 1518.7065320098561, 'SATWriting': 6.404008516771398, 'APTests': 4.0, 'APScores': 5.0, 'STEM': 0.0, 'essays': 0.9198900760628242, 'extracurriculars': 6.0, 'percentile': 0.9313818618138187, 'collegeLevel': 3.0, 'collegeScore': 5.927291687066381, 'accepted': 0.0}\n",
      "{'age': 16.0, 'sex': 0.0, 'white': 1.0, 'asian': 0.0, 'black': 0.0, 'hispanic': 0.0, 'otherRace': 0.0, 'gpa': 3.8149203085498686, 'SAT': 1526.270729938772, 'SATWriting': 7.3140498364733695, 'APTests': 7.0, 'APScores': 4.327971769695805, 'STEM': 0.0, 'essays': 0.9491926833508146, 'extracurriculars': 2.0, 'percentile': 0.966028397160284, 'collegeLevel': 3.0, 'collegeScore': 6.572477597431235, 'accepted': 0.0}\n",
      "{'age': 16.0, 'sex': 0.0, 'white': 1.0, 'asian': 0.0, 'black': 0.0, 'hispanic': 0.0, 'otherRace': 0.0, 'gpa': 3.7075893148074393, 'SAT': 1447.7526686114393, 'SATWriting': 6.783206602230756, 'APTests': 6.0, 'APScores': 4.008950666817481, 'STEM': 0.0, 'essays': 0.8841771865803844, 'extracurriculars': 4.0, 'percentile': 0.9193830616938307, 'collegeLevel': 3.0, 'collegeScore': 6.701348360006551, 'accepted': 0.0}\n",
      "{'age': 17.0, 'sex': 0.0, 'white': 0.0, 'asian': 0.0, 'black': 0.0, 'hispanic': 1.0, 'otherRace': 0.0, 'gpa': 3.511937691503192, 'SAT': 1515.9515982442167, 'SATWriting': 7.0452331722127255, 'APTests': 9.0, 'APScores': 4.6329840601267165, 'STEM': 0.0, 'essays': 0.9785228799361396, 'extracurriculars': 5.0, 'percentile': 0.9346815318468153, 'collegeLevel': 3.0, 'collegeScore': 6.802521649990495, 'accepted': 0.0}\n",
      "{'age': 18.0, 'sex': 0.0, 'white': 0.0, 'asian': 0.0, 'black': 0.0, 'hispanic': 1.0, 'otherRace': 0.0, 'gpa': 3.534552816648818, 'SAT': 1451.6851401431275, 'SATWriting': 5.757258365041628, 'APTests': 4.0, 'APScores': 4.471113946031343, 'STEM': 0.0, 'essays': 0.9344276394596395, 'extracurriculars': 4.0, 'percentile': 0.9110588941105889, 'collegeLevel': 3.0, 'collegeScore': 7.086802521099608, 'accepted': 0.0}\n",
      "{'age': 18.0, 'sex': 1.0, 'white': 0.0, 'asian': 0.0, 'black': 0.0, 'hispanic': 0.0, 'otherRace': 1.0, 'gpa': 3.7439064432086964, 'SAT': 1458.621431907053, 'SATWriting': 6.287159562490371, 'APTests': 3.0, 'APScores': 4.842534226963603, 'STEM': 0.0, 'essays': 0.909073112747388, 'extracurriculars': 1.0, 'percentile': 0.9344565543445655, 'collegeLevel': 3.0, 'collegeScore': 7.2655983011363405, 'accepted': 0.0}\n",
      "{'age': 18.0, 'sex': 0.0, 'white': 0.0, 'asian': 1.0, 'black': 0.0, 'hispanic': 0.0, 'otherRace': 0.0, 'gpa': 3.880631541128583, 'SAT': 1435.553808379756, 'SATWriting': 7.008066780357328, 'APTests': 5.0, 'APScores': 5.0, 'STEM': 0.0, 'essays': 0.9649850689360522, 'extracurriculars': 5.0, 'percentile': 0.9118088191180882, 'collegeLevel': 3.0, 'collegeScore': 8.005697701376283, 'accepted': 0.0}\n",
      "{'age': 18.0, 'sex': 0.0, 'white': 1.0, 'asian': 0.0, 'black': 0.0, 'hispanic': 0.0, 'otherRace': 0.0, 'gpa': 3.9587944360303458, 'SAT': 1498.2022931921322, 'SATWriting': 6.44172621880872, 'APTests': 4.0, 'APScores': 4.549842701031094, 'STEM': 0.0, 'essays': 0.9653361842319679, 'extracurriculars': 8.0, 'percentile': 0.9436056394360564, 'collegeLevel': 3.0, 'collegeScore': 9.187137706373653, 'accepted': 0.0}\n",
      "{'age': 17.0, 'sex': 0.0, 'white': 0.0, 'asian': 0.0, 'black': 0.0, 'hispanic': 1.0, 'otherRace': 0.0, 'gpa': 3.58851035791377, 'SAT': 1558.4064181968622, 'SATWriting': 5.192919075507606, 'APTests': 8.0, 'APScores': 5.0, 'STEM': 0.0, 'essays': 0.9490625405537487, 'extracurriculars': 4.0, 'percentile': 0.9718028197180282, 'collegeLevel': 3.0, 'collegeScore': 10.141222980330065, 'accepted': 0.0}\n",
      "{'age': 16.0, 'sex': 0.0, 'white': 1.0, 'asian': 0.0, 'black': 0.0, 'hispanic': 0.0, 'otherRace': 0.0, 'gpa': 3.89456441522824, 'SAT': 1537.2724713274677, 'SATWriting': 6.943082510209715, 'APTests': 6.0, 'APScores': 4.915778469481949, 'STEM': 0.0, 'essays': 0.8659329013399942, 'extracurriculars': 6.0, 'percentile': 0.9245575442455753, 'collegeLevel': 3.0, 'collegeScore': 10.316030789608737, 'accepted': 0.0}\n",
      "{'age': 18.0, 'sex': 0.0, 'white': 1.0, 'asian': 0.0, 'black': 0.0, 'hispanic': 0.0, 'otherRace': 0.0, 'gpa': 3.6421819775772084, 'SAT': 1500.6439418819082, 'SATWriting': 7.336300423518245, 'APTests': 7.0, 'APScores': 4.601812764358611, 'STEM': 0.0, 'essays': 0.8949027301611903, 'extracurriculars': 6.0, 'percentile': 0.9298820117988201, 'collegeLevel': 3.0, 'collegeScore': 10.51462534870405, 'accepted': 0.0}\n",
      "{'age': 18.0, 'sex': 0.0, 'white': 1.0, 'asian': 0.0, 'black': 0.0, 'hispanic': 0.0, 'otherRace': 0.0, 'gpa': 3.798383697283519, 'SAT': 1521.012505869054, 'SATWriting': 5.506150362231972, 'APTests': 8.0, 'APScores': 5.0, 'STEM': 0.0, 'essays': 0.9041789282027862, 'extracurriculars': 7.0, 'percentile': 0.9444305569443056, 'collegeLevel': 3.0, 'collegeScore': 11.059063363461616, 'accepted': 0.0}\n",
      "{'age': 16.0, 'sex': 0.0, 'white': 1.0, 'asian': 0.0, 'black': 0.0, 'hispanic': 0.0, 'otherRace': 0.0, 'gpa': 3.7633641413771555, 'SAT': 1576.0283867005442, 'SATWriting': 7.220597953902105, 'APTests': 5.0, 'APScores': 5.0, 'STEM': 0.0, 'essays': 0.9845744370724514, 'extracurriculars': 6.0, 'percentile': 0.9723277672232776, 'collegeLevel': 3.0, 'collegeScore': 11.090288113159756, 'accepted': 0.0}\n",
      "{'age': 16.0, 'sex': 0.0, 'white': 0.0, 'asian': 0.0, 'black': 1.0, 'hispanic': 0.0, 'otherRace': 0.0, 'gpa': 3.700124230719597, 'SAT': 1540.5736750960243, 'SATWriting': 7.685729790164944, 'APTests': 6.0, 'APScores': 5.0, 'STEM': 0.0, 'essays': 0.9425894166718359, 'extracurriculars': 6.0, 'percentile': 0.964903509649035, 'collegeLevel': 3.0, 'collegeScore': 11.45579143759963, 'accepted': 0.0}\n",
      "{'age': 18.0, 'sex': 1.0, 'white': 0.0, 'asian': 0.0, 'black': 0.0, 'hispanic': 0.0, 'otherRace': 1.0, 'gpa': 3.680645533552852, 'SAT': 1395.2297686648203, 'SATWriting': 6.527677213522736, 'APTests': 7.0, 'APScores': 4.390754382616954, 'STEM': 0.0, 'essays': 0.8206228280996424, 'extracurriculars': 3.0, 'percentile': 0.9038596140385962, 'collegeLevel': 3.0, 'collegeScore': 11.551874510458267, 'accepted': 0.0}\n",
      "{'age': 17.0, 'sex': 1.0, 'white': 0.0, 'asian': 0.0, 'black': 0.0, 'hispanic': 1.0, 'otherRace': 0.0, 'gpa': 3.508403290040003, 'SAT': 1490.6006828164425, 'SATWriting': 7.311068596816844, 'APTests': 9.0, 'APScores': 4.618088551088187, 'STEM': 0.0, 'essays': 0.8640896757320095, 'extracurriculars': 2.0, 'percentile': 0.9208079192080791, 'collegeLevel': 3.0, 'collegeScore': 11.782884896856032, 'accepted': 0.0}\n",
      "{'age': 18.0, 'sex': 1.0, 'white': 0.0, 'asian': 0.0, 'black': 0.0, 'hispanic': 0.0, 'otherRace': 1.0, 'gpa': 3.5302467794986025, 'SAT': 1475.3521279681781, 'SATWriting': 6.248692418693633, 'APTests': 8.0, 'APScores': 4.719020008491555, 'STEM': 0.0, 'essays': 0.8811911447334557, 'extracurriculars': 6.0, 'percentile': 0.9229077092290772, 'collegeLevel': 3.0, 'collegeScore': 11.807477736423973, 'accepted': 0.0}\n",
      "{'age': 17.0, 'sex': 0.0, 'white': 0.0, 'asian': 0.0, 'black': 1.0, 'hispanic': 0.0, 'otherRace': 0.0, 'gpa': 3.8103849035743806, 'SAT': 1574.3919170429876, 'SATWriting': 5.150586719024553, 'APTests': 7.0, 'APScores': 4.273602615090282, 'STEM': 0.0, 'essays': 0.9878931894264337, 'extracurriculars': 6.0, 'percentile': 0.9841015898410159, 'collegeLevel': 3.0, 'collegeScore': 12.18474386331154, 'accepted': 0.0}\n",
      "{'age': 16.0, 'sex': 0.0, 'white': 1.0, 'asian': 0.0, 'black': 0.0, 'hispanic': 0.0, 'otherRace': 0.0, 'gpa': 3.9908799455310238, 'SAT': 1510.5448162144248, 'SATWriting': 5.264543060314171, 'APTests': 5.0, 'APScores': 4.5104965700252215, 'STEM': 0.0, 'essays': 0.8877046983449262, 'extracurriculars': 9.0, 'percentile': 0.934006599340066, 'collegeLevel': 3.0, 'collegeScore': 12.594936215697333, 'accepted': 0.0}\n",
      "{'age': 18.0, 'sex': 0.0, 'white': 0.0, 'asian': 0.0, 'black': 0.0, 'hispanic': 1.0, 'otherRace': 0.0, 'gpa': 3.676370477469145, 'SAT': 1380.0178512250104, 'SATWriting': 6.286117940121032, 'APTests': 5.0, 'APScores': 4.457204578418206, 'STEM': 0.0, 'essays': 0.8067151045189661, 'extracurriculars': 5.0, 'percentile': 0.9031846815318468, 'collegeLevel': 3.0, 'collegeScore': 13.260788688379312, 'accepted': 0.0}\n",
      "{'age': 18.0, 'sex': 0.0, 'white': 1.0, 'asian': 0.0, 'black': 0.0, 'hispanic': 0.0, 'otherRace': 0.0, 'gpa': 3.5011708832017554, 'SAT': 1544.8032911584064, 'SATWriting': 5.118434031965281, 'APTests': 8.0, 'APScores': 4.112975852209476, 'STEM': 0.0, 'essays': 0.9381558061640131, 'extracurriculars': 4.0, 'percentile': 0.9621287871212879, 'collegeLevel': 3.0, 'collegeScore': 13.751747453185356, 'accepted': 0.0}\n",
      "{'age': 18.0, 'sex': 0.0, 'white': 1.0, 'asian': 0.0, 'black': 0.0, 'hispanic': 0.0, 'otherRace': 0.0, 'gpa': 3.923248020269157, 'SAT': 1397.317510687793, 'SATWriting': 5.138440952663386, 'APTests': 4.0, 'APScores': 4.842050958257553, 'STEM': 0.0, 'essays': 0.960804451410915, 'extracurriculars': 5.0, 'percentile': 0.9000349965003499, 'collegeLevel': 3.0, 'collegeScore': 14.020173793894578, 'accepted': 0.0}\n",
      "{'age': 17.0, 'sex': 0.0, 'white': 1.0, 'asian': 0.0, 'black': 0.0, 'hispanic': 0.0, 'otherRace': 0.0, 'gpa': 3.5232498637827576, 'SAT': 1574.3773278262734, 'SATWriting': 5.448117820416277, 'APTests': 3.0, 'APScores': 4.926047021295421, 'STEM': 0.0, 'essays': 0.9399830851891537, 'extracurriculars': 5.0, 'percentile': 0.964978502149785, 'collegeLevel': 3.0, 'collegeScore': 14.0874165795736, 'accepted': 0.0}\n",
      "{'age': 17.0, 'sex': 0.0, 'white': 1.0, 'asian': 0.0, 'black': 0.0, 'hispanic': 0.0, 'otherRace': 0.0, 'gpa': 3.811003984280129, 'SAT': 1533.484626197904, 'SATWriting': 7.759623643313283, 'APTests': 7.0, 'APScores': 5.0, 'STEM': 0.0, 'essays': 0.9702214500745429, 'extracurriculars': 1.0, 'percentile': 0.9672282771722828, 'collegeLevel': 3.0, 'collegeScore': 14.386128911740636, 'accepted': 0.0}\n",
      "{'age': 18.0, 'sex': 1.0, 'white': 0.0, 'asian': 0.0, 'black': 0.0, 'hispanic': 0.0, 'otherRace': 1.0, 'gpa': 3.9504140406612507, 'SAT': 1390.2757702965132, 'SATWriting': 6.445004064874029, 'APTests': 9.0, 'APScores': 4.854015406935934, 'STEM': 0.0, 'essays': 0.8172635653765801, 'extracurriculars': 3.0, 'percentile': 0.9006349365063493, 'collegeLevel': 3.0, 'collegeScore': 14.666931828280289, 'accepted': 0.0}\n",
      "{'age': 18.0, 'sex': 0.0, 'white': 0.0, 'asian': 0.0, 'black': 0.0, 'hispanic': 0.0, 'otherRace': 1.0, 'gpa': 3.849998514098761, 'SAT': 1474.7024565588802, 'SATWriting': 6.8123112173945755, 'APTests': 8.0, 'APScores': 4.297451177791351, 'STEM': 0.0, 'essays': 0.8964015394110645, 'extracurriculars': 5.0, 'percentile': 0.9254574542545746, 'collegeLevel': 3.0, 'collegeScore': 14.698659983091735, 'accepted': 0.0}\n"
     ]
    }
   ],
   "source": [
    "for j in range(30):\n",
    "    temp = {}\n",
    "    for i in range(len(headers)):\n",
    "        temp[headers[i]] = applicants[22750+j, i]\n",
    "    print(temp)"
   ]
  },
  {
   "cell_type": "code",
   "execution_count": 18,
   "metadata": {
    "id": "9PHBMIklm4_A"
   },
   "outputs": [],
   "source": [
    "applicants_final = applicants[:,[0,1,2,3,4,5,6,7,8,9,10,11,12,13,14,15,16,17,18]]\n",
    "headers_final = ['age', 'sex', 'white', 'asian', 'black', 'hispanic', 'otherRace', 'gpa', 'SAT', 'SATWriting', 'APTests', 'APScores', 'STEM', 'essays', 'extracurriculars', 'percentile', 'collegeLevel', 'collegeScore', 'accepted']\n",
    "df = pd.DataFrame(applicants_final, columns=headers_final)\n",
    "df.to_csv(\"college_acceptance_\"+ str(n) +\"_gaussian.csv\")"
   ]
  }
 ],
 "metadata": {
  "colab": {
   "provenance": []
  },
  "kernelspec": {
   "display_name": "base",
   "language": "python",
   "name": "python3"
  },
  "language_info": {
   "name": "python",
   "version": "3.11.5"
  }
 },
 "nbformat": 4,
 "nbformat_minor": 0
}
